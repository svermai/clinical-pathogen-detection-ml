{
 "cells": [
  {
   "cell_type": "markdown",
   "metadata": {},
   "source": [
    "# EDA: Salmonella Enterica Pathogen Detection\n",
    "\n",
    "## **Objective:**  \n",
    "## Load, clean, explore, and visualize clinical metadata to understand patterns in pathogen detection."
   ]
  },
  {
   "cell_type": "markdown",
   "metadata": {},
   "source": [
    "### https://www.kaggle.com/datasets/imtkaggleteam/pathogen-detection-salmonella-enterica?resource=download"
   ]
  },
  {
   "cell_type": "code",
   "execution_count": 15,
   "metadata": {},
   "outputs": [],
   "source": [
    "# 🚀 Imports\n",
    "import pandas as pd\n",
    "import numpy as np\n",
    "import matplotlib.pyplot as plt\n",
    "import seaborn as sns\n",
    "\n",
    "import os \n",
    "#!pip install scikit-learn"
   ]
  },
  {
   "cell_type": "code",
   "execution_count": 2,
   "metadata": {},
   "outputs": [
    {
     "name": "stdout",
     "output_type": "stream",
     "text": [
      "Raw data: 558819 rows, 16 columns\n"
     ]
    },
    {
     "data": {
      "application/vnd.microsoft.datawrangler.viewer.v0+json": {
       "columns": [
        {
         "name": "index",
         "rawType": "int64",
         "type": "integer"
        },
        {
         "name": "#Organism group",
         "rawType": "object",
         "type": "string"
        },
        {
         "name": "Strain",
         "rawType": "object",
         "type": "string"
        },
        {
         "name": "Isolate identifiers",
         "rawType": "object",
         "type": "string"
        },
        {
         "name": "Serovar",
         "rawType": "object",
         "type": "string"
        },
        {
         "name": "Isolate",
         "rawType": "object",
         "type": "string"
        },
        {
         "name": "Create date",
         "rawType": "object",
         "type": "string"
        },
        {
         "name": "Location",
         "rawType": "object",
         "type": "string"
        },
        {
         "name": "Isolation source",
         "rawType": "object",
         "type": "string"
        },
        {
         "name": "Isolation type",
         "rawType": "object",
         "type": "string"
        },
        {
         "name": "SNP cluster",
         "rawType": "object",
         "type": "string"
        },
        {
         "name": "Min-same",
         "rawType": "float64",
         "type": "float"
        },
        {
         "name": "Min-diff",
         "rawType": "float64",
         "type": "float"
        },
        {
         "name": "BioSample",
         "rawType": "object",
         "type": "string"
        },
        {
         "name": "Assembly",
         "rawType": "object",
         "type": "unknown"
        },
        {
         "name": "AMR genotypes",
         "rawType": "object",
         "type": "string"
        },
        {
         "name": "Computed types",
         "rawType": "object",
         "type": "string"
        }
       ],
       "ref": "43111e83-4d2a-4877-b1ce-ff8f2ad1d8eb",
       "rows": [
        [
         "0",
         "Salmonella enterica",
         "SQ0227",
         "\"93-6175B\",\"SQ0227\",\"SRS426868\"",
         "enteritidis",
         "PDT000000002.3",
         "2014-01-04T17:03:07Z",
         "USA: Western Region",
         "Ocean",
         "environmental/other",
         "PDS000032687.2",
         "0.0",
         null,
         "SAMN02147118",
         null,
         "ant(2'')-Ia=COMPLETE,aph(3')-Ia=COMPLETE,blaTEM-1=COMPLETE,catA1=COMPLETE,dfrA10=COMPLETE,mdsA=COMPLETE,mdsB=COMPLETE,sul1=COMPLETE",
         "antigen_formula=9:g,m:-,serotype=Enteritidis"
        ],
        [
         "1",
         "Salmonella enterica",
         "SQ0228",
         "\"93-2836A\",\"SQ0228\",\"SRS426867\"",
         "enteritidis",
         "PDT000000003.3",
         "2014-01-04T17:03:07Z",
         "USA: Western Region",
         "Ocean",
         "environmental/other",
         "PDS000032687.2",
         "0.0",
         null,
         "SAMN02147119",
         null,
         "mdsA=COMPLETE,mdsB=COMPLETE",
         "antigen_formula=9:g,m:-,serotype=Enteritidis"
        ],
        [
         "2",
         "Salmonella enterica",
         "SQ0229",
         "\"93-7741\",\"SQ0229\",\"SRS426869\"",
         "enteritidis",
         "PDT000000004.3",
         "2014-01-04T17:03:07Z",
         "USA: Western Region",
         "Ocean",
         "environmental/other",
         "PDS000065776.23",
         "0.0",
         "25.0",
         "SAMN02147120",
         null,
         "mdsA=COMPLETE,mdsB=COMPLETE",
         "antigen_formula=9:g,m:-,serotype=Enteritidis"
        ],
        [
         "3",
         "Salmonella enterica",
         "Gen_001782",
         "\"Gen_001782\",\"SRS426891\"",
         "Heidelberg",
         "PDT000000005.4",
         "2014-01-04T17:03:07Z",
         "USA",
         "food",
         "environmental/other",
         "PDS000150683.10",
         "2.0",
         "2.0",
         "SAMN02147121",
         "GCA_010121905.1",
         "fosA7=COMPLETE,mdsA=COMPLETE,mdsB=COMPLETE",
         "antigen_formula=4:r:1,2,serotype=Heidelberg"
        ],
        [
         "4",
         "Salmonella enterica",
         "Gen_001783",
         "\"Gen_001783\",\"SRS426892\"",
         "Heidelberg",
         "PDT000000006.4",
         "2014-01-04T17:03:07Z",
         "USA",
         "food",
         "environmental/other",
         "PDS000150683.10",
         "2.0",
         "17.0",
         "SAMN02147122",
         "GCA_010121865.1",
         "blaCMY-2=COMPLETE,fosA7=COMPLETE,mdsA=COMPLETE,mdsB=COMPLETE",
         "antigen_formula=4:r:1,2,serotype=Heidelberg"
        ]
       ],
       "shape": {
        "columns": 16,
        "rows": 5
       }
      },
      "text/html": [
       "<div>\n",
       "<style scoped>\n",
       "    .dataframe tbody tr th:only-of-type {\n",
       "        vertical-align: middle;\n",
       "    }\n",
       "\n",
       "    .dataframe tbody tr th {\n",
       "        vertical-align: top;\n",
       "    }\n",
       "\n",
       "    .dataframe thead th {\n",
       "        text-align: right;\n",
       "    }\n",
       "</style>\n",
       "<table border=\"1\" class=\"dataframe\">\n",
       "  <thead>\n",
       "    <tr style=\"text-align: right;\">\n",
       "      <th></th>\n",
       "      <th>#Organism group</th>\n",
       "      <th>Strain</th>\n",
       "      <th>Isolate identifiers</th>\n",
       "      <th>Serovar</th>\n",
       "      <th>Isolate</th>\n",
       "      <th>Create date</th>\n",
       "      <th>Location</th>\n",
       "      <th>Isolation source</th>\n",
       "      <th>Isolation type</th>\n",
       "      <th>SNP cluster</th>\n",
       "      <th>Min-same</th>\n",
       "      <th>Min-diff</th>\n",
       "      <th>BioSample</th>\n",
       "      <th>Assembly</th>\n",
       "      <th>AMR genotypes</th>\n",
       "      <th>Computed types</th>\n",
       "    </tr>\n",
       "  </thead>\n",
       "  <tbody>\n",
       "    <tr>\n",
       "      <th>0</th>\n",
       "      <td>Salmonella enterica</td>\n",
       "      <td>SQ0227</td>\n",
       "      <td>\"93-6175B\",\"SQ0227\",\"SRS426868\"</td>\n",
       "      <td>enteritidis</td>\n",
       "      <td>PDT000000002.3</td>\n",
       "      <td>2014-01-04T17:03:07Z</td>\n",
       "      <td>USA: Western Region</td>\n",
       "      <td>Ocean</td>\n",
       "      <td>environmental/other</td>\n",
       "      <td>PDS000032687.2</td>\n",
       "      <td>0.0</td>\n",
       "      <td>NaN</td>\n",
       "      <td>SAMN02147118</td>\n",
       "      <td>NaN</td>\n",
       "      <td>ant(2'')-Ia=COMPLETE,aph(3')-Ia=COMPLETE,blaTE...</td>\n",
       "      <td>antigen_formula=9:g,m:-,serotype=Enteritidis</td>\n",
       "    </tr>\n",
       "    <tr>\n",
       "      <th>1</th>\n",
       "      <td>Salmonella enterica</td>\n",
       "      <td>SQ0228</td>\n",
       "      <td>\"93-2836A\",\"SQ0228\",\"SRS426867\"</td>\n",
       "      <td>enteritidis</td>\n",
       "      <td>PDT000000003.3</td>\n",
       "      <td>2014-01-04T17:03:07Z</td>\n",
       "      <td>USA: Western Region</td>\n",
       "      <td>Ocean</td>\n",
       "      <td>environmental/other</td>\n",
       "      <td>PDS000032687.2</td>\n",
       "      <td>0.0</td>\n",
       "      <td>NaN</td>\n",
       "      <td>SAMN02147119</td>\n",
       "      <td>NaN</td>\n",
       "      <td>mdsA=COMPLETE,mdsB=COMPLETE</td>\n",
       "      <td>antigen_formula=9:g,m:-,serotype=Enteritidis</td>\n",
       "    </tr>\n",
       "    <tr>\n",
       "      <th>2</th>\n",
       "      <td>Salmonella enterica</td>\n",
       "      <td>SQ0229</td>\n",
       "      <td>\"93-7741\",\"SQ0229\",\"SRS426869\"</td>\n",
       "      <td>enteritidis</td>\n",
       "      <td>PDT000000004.3</td>\n",
       "      <td>2014-01-04T17:03:07Z</td>\n",
       "      <td>USA: Western Region</td>\n",
       "      <td>Ocean</td>\n",
       "      <td>environmental/other</td>\n",
       "      <td>PDS000065776.23</td>\n",
       "      <td>0.0</td>\n",
       "      <td>25.0</td>\n",
       "      <td>SAMN02147120</td>\n",
       "      <td>NaN</td>\n",
       "      <td>mdsA=COMPLETE,mdsB=COMPLETE</td>\n",
       "      <td>antigen_formula=9:g,m:-,serotype=Enteritidis</td>\n",
       "    </tr>\n",
       "    <tr>\n",
       "      <th>3</th>\n",
       "      <td>Salmonella enterica</td>\n",
       "      <td>Gen_001782</td>\n",
       "      <td>\"Gen_001782\",\"SRS426891\"</td>\n",
       "      <td>Heidelberg</td>\n",
       "      <td>PDT000000005.4</td>\n",
       "      <td>2014-01-04T17:03:07Z</td>\n",
       "      <td>USA</td>\n",
       "      <td>food</td>\n",
       "      <td>environmental/other</td>\n",
       "      <td>PDS000150683.10</td>\n",
       "      <td>2.0</td>\n",
       "      <td>2.0</td>\n",
       "      <td>SAMN02147121</td>\n",
       "      <td>GCA_010121905.1</td>\n",
       "      <td>fosA7=COMPLETE,mdsA=COMPLETE,mdsB=COMPLETE</td>\n",
       "      <td>antigen_formula=4:r:1,2,serotype=Heidelberg</td>\n",
       "    </tr>\n",
       "    <tr>\n",
       "      <th>4</th>\n",
       "      <td>Salmonella enterica</td>\n",
       "      <td>Gen_001783</td>\n",
       "      <td>\"Gen_001783\",\"SRS426892\"</td>\n",
       "      <td>Heidelberg</td>\n",
       "      <td>PDT000000006.4</td>\n",
       "      <td>2014-01-04T17:03:07Z</td>\n",
       "      <td>USA</td>\n",
       "      <td>food</td>\n",
       "      <td>environmental/other</td>\n",
       "      <td>PDS000150683.10</td>\n",
       "      <td>2.0</td>\n",
       "      <td>17.0</td>\n",
       "      <td>SAMN02147122</td>\n",
       "      <td>GCA_010121865.1</td>\n",
       "      <td>blaCMY-2=COMPLETE,fosA7=COMPLETE,mdsA=COMPLETE...</td>\n",
       "      <td>antigen_formula=4:r:1,2,serotype=Heidelberg</td>\n",
       "    </tr>\n",
       "  </tbody>\n",
       "</table>\n",
       "</div>"
      ],
      "text/plain": [
       "       #Organism group      Strain              Isolate identifiers  \\\n",
       "0  Salmonella enterica      SQ0227  \"93-6175B\",\"SQ0227\",\"SRS426868\"   \n",
       "1  Salmonella enterica      SQ0228  \"93-2836A\",\"SQ0228\",\"SRS426867\"   \n",
       "2  Salmonella enterica      SQ0229   \"93-7741\",\"SQ0229\",\"SRS426869\"   \n",
       "3  Salmonella enterica  Gen_001782         \"Gen_001782\",\"SRS426891\"   \n",
       "4  Salmonella enterica  Gen_001783         \"Gen_001783\",\"SRS426892\"   \n",
       "\n",
       "       Serovar         Isolate           Create date             Location  \\\n",
       "0  enteritidis  PDT000000002.3  2014-01-04T17:03:07Z  USA: Western Region   \n",
       "1  enteritidis  PDT000000003.3  2014-01-04T17:03:07Z  USA: Western Region   \n",
       "2  enteritidis  PDT000000004.3  2014-01-04T17:03:07Z  USA: Western Region   \n",
       "3   Heidelberg  PDT000000005.4  2014-01-04T17:03:07Z                  USA   \n",
       "4   Heidelberg  PDT000000006.4  2014-01-04T17:03:07Z                  USA   \n",
       "\n",
       "  Isolation source       Isolation type      SNP cluster  Min-same  Min-diff  \\\n",
       "0            Ocean  environmental/other   PDS000032687.2       0.0       NaN   \n",
       "1            Ocean  environmental/other   PDS000032687.2       0.0       NaN   \n",
       "2            Ocean  environmental/other  PDS000065776.23       0.0      25.0   \n",
       "3             food  environmental/other  PDS000150683.10       2.0       2.0   \n",
       "4             food  environmental/other  PDS000150683.10       2.0      17.0   \n",
       "\n",
       "      BioSample         Assembly  \\\n",
       "0  SAMN02147118              NaN   \n",
       "1  SAMN02147119              NaN   \n",
       "2  SAMN02147120              NaN   \n",
       "3  SAMN02147121  GCA_010121905.1   \n",
       "4  SAMN02147122  GCA_010121865.1   \n",
       "\n",
       "                                       AMR genotypes  \\\n",
       "0  ant(2'')-Ia=COMPLETE,aph(3')-Ia=COMPLETE,blaTE...   \n",
       "1                        mdsA=COMPLETE,mdsB=COMPLETE   \n",
       "2                        mdsA=COMPLETE,mdsB=COMPLETE   \n",
       "3         fosA7=COMPLETE,mdsA=COMPLETE,mdsB=COMPLETE   \n",
       "4  blaCMY-2=COMPLETE,fosA7=COMPLETE,mdsA=COMPLETE...   \n",
       "\n",
       "                                 Computed types  \n",
       "0  antigen_formula=9:g,m:-,serotype=Enteritidis  \n",
       "1  antigen_formula=9:g,m:-,serotype=Enteritidis  \n",
       "2  antigen_formula=9:g,m:-,serotype=Enteritidis  \n",
       "3   antigen_formula=4:r:1,2,serotype=Heidelberg  \n",
       "4   antigen_formula=4:r:1,2,serotype=Heidelberg  "
      ]
     },
     "execution_count": 2,
     "metadata": {},
     "output_type": "execute_result"
    }
   ],
   "source": [
    "# Load the dataset\n",
    "df = pd.read_csv('../data/raw/pathogen_detection_salmonella_enterica.csv')\n",
    "print(f\"Raw data: {df.shape[0]} rows, {df.shape[1]} columns\")\n",
    "\n",
    "# Quick look\n",
    "df.head()"
   ]
  },
  {
   "cell_type": "code",
   "execution_count": 3,
   "metadata": {},
   "outputs": [
    {
     "name": "stdout",
     "output_type": "stream",
     "text": [
      "<class 'pandas.core.frame.DataFrame'>\n",
      "RangeIndex: 558819 entries, 0 to 558818\n",
      "Data columns (total 16 columns):\n",
      " #   Column               Non-Null Count   Dtype  \n",
      "---  ------               --------------   -----  \n",
      " 0   #Organism group      558819 non-null  object \n",
      " 1   Strain               521387 non-null  object \n",
      " 2   Isolate identifiers  558784 non-null  object \n",
      " 3   Serovar              271461 non-null  object \n",
      " 4   Isolate              558819 non-null  object \n",
      " 5   Create date          558819 non-null  object \n",
      " 6   Location             493788 non-null  object \n",
      " 7   Isolation source     266854 non-null  object \n",
      " 8   Isolation type       519107 non-null  object \n",
      " 9   SNP cluster          503772 non-null  object \n",
      " 10  Min-same             465867 non-null  float64\n",
      " 11  Min-diff             373323 non-null  float64\n",
      " 12  BioSample            558813 non-null  object \n",
      " 13  Assembly             468778 non-null  object \n",
      " 14  AMR genotypes        543238 non-null  object \n",
      " 15  Computed types       557667 non-null  object \n",
      "dtypes: float64(2), object(14)\n",
      "memory usage: 68.2+ MB\n"
     ]
    }
   ],
   "source": [
    "df.info()"
   ]
  },
  {
   "cell_type": "code",
   "execution_count": 4,
   "metadata": {},
   "outputs": [
    {
     "name": "stdout",
     "output_type": "stream",
     "text": [
      "Isolation source       0.522468\n",
      "Serovar                0.514224\n",
      "Min-diff               0.331943\n",
      "Min-same               0.166337\n",
      "Assembly               0.161127\n",
      "Location               0.116372\n",
      "SNP cluster            0.098506\n",
      "Isolation type         0.071064\n",
      "Strain                 0.066984\n",
      "AMR genotypes          0.027882\n",
      "Computed types         0.002061\n",
      "Isolate identifiers    0.000063\n",
      "BioSample              0.000011\n",
      "dtype: float64\n"
     ]
    }
   ],
   "source": [
    "# Check for missing values\n",
    "missing = df.isna().mean().sort_values(ascending=False)\n",
    "print(missing[missing > 0])\n",
    "\n"
   ]
  },
  {
   "cell_type": "code",
   "execution_count": 5,
   "metadata": {},
   "outputs": [],
   "source": [
    "# Drop columns with >50% missing data\n",
    "df.drop(columns=['Isolation source', 'Serovar'], inplace=True)\n",
    "\n",
    "# Drop rows with missing critical columns (>30% but relevant)\n",
    "df.dropna(subset=['Min-diff'], inplace=True)\n",
    "\n",
    "# Fill less important missing values\n",
    "df['Min-same'] = df['Min-same'].fillna(df['Min-same'].median())\n",
    "df['Assembly'] = df['Assembly'].fillna('Unknown')\n",
    "df['Location'] = df['Location'].fillna('Unknown')\n",
    "df['SNP cluster'] = df['SNP cluster'].fillna('NA')\n",
    "df['Isolation type'] = df['Isolation type'].fillna('NA')\n",
    "df['Strain'] = df['Strain'].fillna('Unknown')\n",
    "df['AMR genotypes'] = df['AMR genotypes'].fillna('None')\n",
    "df['Computed types'] = df['Computed types'].fillna('Unknown')\n"
   ]
  },
  {
   "cell_type": "code",
   "execution_count": 6,
   "metadata": {},
   "outputs": [
    {
     "data": {
      "image/png": "[encoded data removed]",
      "text/plain": [
       "<Figure size 1000x600 with 1 Axes>"
      ]
     },
     "metadata": {},
     "output_type": "display_data"
    },
    {
     "data": {
      "image/png": "[encoded data removed]",
      "text/plain": [
       "<Figure size 1000x400 with 1 Axes>"
      ]
     },
     "metadata": {},
     "output_type": "display_data"
    }
   ],
   "source": [
    "# Location distribution\n",
    "plt.figure(figsize=(10,6))\n",
    "sns.countplot(data=df, y='Location', order=df['Location'].value_counts().index[:10])\n",
    "plt.title('Top Sample Locations')\n",
    "plt.tight_layout()\n",
    "plt.show()\n",
    "\n",
    "# Isolation type distribution\n",
    "plt.figure(figsize=(10,4))\n",
    "sns.countplot(data=df, x='Isolation type', order=df['Isolation type'].value_counts().index)\n",
    "plt.xticks(rotation=45)\n",
    "plt.title('Isolation Type Distribution')\n",
    "plt.tight_layout()\n",
    "plt.show()\n"
   ]
  },
  {
   "cell_type": "code",
   "execution_count": 7,
   "metadata": {},
   "outputs": [
    {
     "data": {
      "image/png": "[encoded data removed]",
      "text/plain": [
       "<Figure size 800x400 with 1 Axes>"
      ]
     },
     "metadata": {},
     "output_type": "display_data"
    }
   ],
   "source": [
    "# Ensure date column exists\n",
    "if 'Create date' in df.columns:\n",
    "    df['Create date'] = pd.to_datetime(df['Create date'], errors='coerce')\n",
    "    df['year'] = df['Create date'].dt.year\n",
    "\n",
    "    # Drop null years\n",
    "    df = df.dropna(subset=['year'])\n",
    "\n",
    "    yearly = df['year'].value_counts().sort_index()\n",
    "\n",
    "    plt.figure(figsize=(8,4))\n",
    "    sns.lineplot(x=yearly.index, y=yearly.values, marker=\"o\")\n",
    "    plt.title('Samples Collected Per Year')\n",
    "    plt.xlabel('Year')\n",
    "    plt.ylabel('Count')\n",
    "    plt.tight_layout()\n",
    "    plt.show()\n"
   ]
  },
  {
   "cell_type": "code",
   "execution_count": null,
   "metadata": {},
   "outputs": [],
   "source": [
    "from sklearn.model_selection import train_test_split\n",
    "from sklearn.preprocessing import LabelEncoder, StandardScaler\n"
   ]
  },
  {
   "cell_type": "code",
   "execution_count": 13,
   "metadata": {},
   "outputs": [],
   "source": [
    "\n",
    "\n",
    "# Drop non-informative or problematic columns\n",
    "drop_cols = ['Isolate identifiers', 'BioSample', 'Assembly', 'Create date']\n",
    "df_ml = df.drop(columns=drop_cols, errors='ignore')\n",
    "\n",
    "# Encode all categorical features\n",
    "for col in df_ml.select_dtypes(include=['object']).columns:\n",
    "    df_ml[col] = df_ml[col].astype(str)\n",
    "    le = LabelEncoder()\n",
    "    df_ml[col] = le.fit_transform(df_ml[col])\n",
    "\n",
    "# Ensure datetime columns are dropped (you already extracted 'year', which is OK)\n",
    "X = df_ml.drop(columns=['AMR genotypes'])  # target column\n",
    "y = df_ml['AMR genotypes']\n",
    "\n",
    "# Encode target\n",
    "y = LabelEncoder().fit_transform(y)\n",
    "\n",
    "# Train/test split\n",
    "X_train, X_test, y_train, y_test = train_test_split(X, y, test_size=0.2, random_state=42)\n",
    "\n",
    "# Scale only numeric features\n",
    "scaler = StandardScaler()\n",
    "X_train_s = scaler.fit_transform(X_train)\n",
    "X_test_s = scaler.transform(X_test)\n",
    "\n"
   ]
  },
  {
   "cell_type": "code",
   "execution_count": 16,
   "metadata": {},
   "outputs": [],
   "source": [
    "\n",
    "os.makedirs('../data/processed/', exist_ok=True)\n",
    "df_ml.to_csv('../data/processed/salmonella_cleaned.csv', index=False)\n"
   ]
  },
  {
   "cell_type": "code",
   "execution_count": null,
   "metadata": {},
   "outputs": [],
   "source": []
  },
  {
   "cell_type": "code",
   "execution_count": null,
   "metadata": {},
   "outputs": [],
   "source": []
  }
 ],
 "metadata": {
  "kernelspec": {
   "display_name": ".venv",
   "language": "python",
   "name": "python3"
  },
  "language_info": {
   "codemirror_mode": {
    "name": "ipython",
    "version": 3
   },
   "file_extension": ".py",
   "mimetype": "text/x-python",
   "name": "python",
   "nbconvert_exporter": "python",
   "pygments_lexer": "ipython3",
   "version": "3.13.2"
  }
 },
 "nbformat": 4,
 "nbformat_minor": 2
}
